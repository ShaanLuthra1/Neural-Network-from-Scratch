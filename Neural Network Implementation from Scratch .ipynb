{
 "cells": [
  {
   "cell_type": "markdown",
   "metadata": {},
   "source": [
    "I will be implementing an Artificial Neural Network on data with 2 predictors and binary classification"
   ]
  },
  {
   "cell_type": "markdown",
   "metadata": {},
   "source": [
    "# Read our data in from the file"
   ]
  },
  {
   "cell_type": "code",
   "execution_count": 52,
   "metadata": {},
   "outputs": [],
   "source": [
    "import pandas as pd\n",
    "import numpy as np\n",
    "import matplotlib.pyplot as plt\n",
    "import math\n",
    "from sklearn.linear_model import LogisticRegression\n",
    "from sklearn.preprocessing import MinMaxScaler\n",
    "import math\n",
    "\n",
    "\n",
    "%matplotlib inline\n",
    "\n",
    "data = []\n",
    "with open('ex2data2.txt') as fp:\n",
    "    line = fp.readline()\n",
    "    while line:\n",
    "        line = fp.readline()\n",
    "        line = line.replace('\\n', '')\n",
    "        line = line.replace(' ', '')\n",
    "        lineArr = line.split(',')\n",
    "        try:\n",
    "            lineArr2 = [float(lineArr[0]), float(lineArr[1]), float(lineArr[2])]\n",
    "        except ValueError:\n",
    "            pass\n",
    "        data.append(lineArr2)\n",
    "df = pd.DataFrame(data, columns=['x1', 'x2', 'label'])\n",
    "df = df.sample(frac=1, replace=True)\n",
    "\n",
    "X = []\n",
    "Y = []\n",
    "for t in df.itertuples():\n",
    "    currentx = np.array([t[1], t[2]]).T\n",
    "    X.append(currentx)\n",
    "    Y.append(t[3])\n",
    "\n",
    "X = np.matrix(X).T\n",
    "Y = np.matrix(Y).T"
   ]
  },
  {
   "cell_type": "markdown",
   "metadata": {},
   "source": [
    "# Our data:"
   ]
  },
  {
   "cell_type": "code",
   "execution_count": 53,
   "metadata": {},
   "outputs": [
    {
     "data": {
      "text/html": [
       "<div>\n",
       "<style scoped>\n",
       "    .dataframe tbody tr th:only-of-type {\n",
       "        vertical-align: middle;\n",
       "    }\n",
       "\n",
       "    .dataframe tbody tr th {\n",
       "        vertical-align: top;\n",
       "    }\n",
       "\n",
       "    .dataframe thead th {\n",
       "        text-align: right;\n",
       "    }\n",
       "</style>\n",
       "<table border=\"1\" class=\"dataframe\">\n",
       "  <thead>\n",
       "    <tr style=\"text-align: right;\">\n",
       "      <th></th>\n",
       "      <th>x1</th>\n",
       "      <th>x2</th>\n",
       "      <th>label</th>\n",
       "    </tr>\n",
       "  </thead>\n",
       "  <tbody>\n",
       "    <tr>\n",
       "      <th>104</th>\n",
       "      <td>-0.49021</td>\n",
       "      <td>-0.301900</td>\n",
       "      <td>0.0</td>\n",
       "    </tr>\n",
       "    <tr>\n",
       "      <th>87</th>\n",
       "      <td>-0.40380</td>\n",
       "      <td>0.706870</td>\n",
       "      <td>0.0</td>\n",
       "    </tr>\n",
       "    <tr>\n",
       "      <th>53</th>\n",
       "      <td>-0.20795</td>\n",
       "      <td>0.173250</td>\n",
       "      <td>1.0</td>\n",
       "    </tr>\n",
       "    <tr>\n",
       "      <th>90</th>\n",
       "      <td>-0.54781</td>\n",
       "      <td>0.706870</td>\n",
       "      <td>0.0</td>\n",
       "    </tr>\n",
       "    <tr>\n",
       "      <th>116</th>\n",
       "      <td>0.63265</td>\n",
       "      <td>-0.030612</td>\n",
       "      <td>0.0</td>\n",
       "    </tr>\n",
       "  </tbody>\n",
       "</table>\n",
       "</div>"
      ],
      "text/plain": [
       "          x1        x2  label\n",
       "104 -0.49021 -0.301900    0.0\n",
       "87  -0.40380  0.706870    0.0\n",
       "53  -0.20795  0.173250    1.0\n",
       "90  -0.54781  0.706870    0.0\n",
       "116  0.63265 -0.030612    0.0"
      ]
     },
     "execution_count": 53,
     "metadata": {},
     "output_type": "execute_result"
    }
   ],
   "source": [
    "df.head()"
   ]
  },
  {
   "cell_type": "markdown",
   "metadata": {},
   "source": [
    "# Visualizing our data"
   ]
  },
  {
   "cell_type": "code",
   "execution_count": 54,
   "metadata": {
    "scrolled": true
   },
   "outputs": [
    {
     "data": {
      "image/png": "[encoded data removed]",
      "text/plain": [
       "<Figure size 432x288 with 1 Axes>"
      ]
     },
     "metadata": {
      "needs_background": "light"
     },
     "output_type": "display_data"
    }
   ],
   "source": [
    "df0 = df[df['label'] == 0]\n",
    "df1 = df[df['label'] == 1]\n",
    "plt.plot(df0['x1'], df0['x2'], 'b.')\n",
    "plt.plot(df1['x1'], df1['x2'], 'r.')\n",
    "plt.show()"
   ]
  },
  {
   "cell_type": "markdown",
   "metadata": {},
   "source": [
    "# Our Neural Network has:\n",
    "#         - 2 input nodes\n",
    "#         - 4 hidden layer 1 nodes\n",
    "#         - 4 hidden layer 2 nodes\n",
    "#         - 1 output node"
   ]
  },
  {
   "cell_type": "markdown",
   "metadata": {},
   "source": [
    "# Creating our Functions needed for Forward and Back Propogation"
   ]
  },
  {
   "cell_type": "code",
   "execution_count": 55,
   "metadata": {},
   "outputs": [],
   "source": [
    "def tanhActivation(z1Arr):\n",
    "    return np.tanh(z1Arr)\n",
    "\n",
    "def sigmoid(z2Arr):\n",
    "    return np.array(1/(1+np.power(math.e, -z2Arr)))\n",
    "\n",
    "def costFunction(A3):\n",
    "    vectorCost = np.multiply(np.log(A3), Y) + np.multiply((1 - Y), np.log(1 - A3))\n",
    "    cost = -np.sum(vectorCost)/m\n",
    "    return cost\n",
    "\n",
    "def tanhPrime(ZArr):\n",
    "    return 1 - np.power((tanhActivation(ZArr)), 2)\n",
    "\n",
    "def forwardProp(W1t, xt, B1t):\n",
    "    z1t = np.dot(W1t, xt) + B1t\n",
    "    a1 = tanhActivation(z1t)\n",
    "    z2 = np.dot(W2, a1) + B2\n",
    "    a2 = tanhActivation(z2)\n",
    "    z3 = np.dot(W3, a2) + B3\n",
    "    return sigmoid(z3)\n"
   ]
  },
  {
   "cell_type": "markdown",
   "metadata": {},
   "source": [
    "# Initialize weights to a random decimal number between -1 and 1"
   ]
  },
  {
   "cell_type": "code",
   "execution_count": 56,
   "metadata": {},
   "outputs": [],
   "source": [
    "#------------------\n",
    "#input layer\n",
    "nInLayer = 2\n",
    "#------------------\n",
    "\n",
    "#------------------\n",
    "#hidden layer 1\n",
    "nHiddenLayer1 = 4\n",
    "#hidden layer 2\n",
    "nHiddenLayer2 = 4\n",
    "#------------------\n",
    "\n",
    "#------------------\n",
    "#output layer     \n",
    "nOutLayer = 1\n",
    "#------------------\n",
    "\n",
    "W1 = 2 * np.random.randn(nHiddenLayer1, nInLayer) - 1\n",
    "W2 = 2 * np.random.rand(nHiddenLayer2, nHiddenLayer1) - 1\n",
    "W3 = 2 * np.random.rand(nOutLayer, nHiddenLayer2) - 1\n",
    "\n",
    "\n",
    "B1 = 2 * np.random.randn(nHiddenLayer1, 1) - 1\n",
    "B2 = 2 * np.random.randn(nHiddenLayer2, 1) - 1\n",
    "B3 = 2 * np.random.randn(nOutLayer, 1) - 1"
   ]
  },
  {
   "cell_type": "markdown",
   "metadata": {},
   "source": [
    "# Time to train our neural network!"
   ]
  },
  {
   "cell_type": "markdown",
   "metadata": {},
   "source": [
    "Our learning rate (a) is set to 0.003. Our neural network will train on 30,000 iterations"
   ]
  },
  {
   "cell_type": "code",
   "execution_count": 57,
   "metadata": {
    "scrolled": true
   },
   "outputs": [
    {
     "name": "stdout",
     "output_type": "stream",
     "text": [
      "Cost at iteration #0: 19.048181337820772\n",
      "Cost at iteration #1000: 17.70461777137245\n",
      "Cost at iteration #2000: 16.39385587160383\n",
      "Cost at iteration #3000: 15.148338066312611\n",
      "Cost at iteration #4000: 13.992547802966687\n",
      "Cost at iteration #5000: 12.924156719936056\n",
      "Cost at iteration #6000: 11.927024457814772\n",
      "Cost at iteration #7000: 10.989528644814106\n",
      "Cost at iteration #8000: 10.111495261366963\n",
      "Cost at iteration #9000: 9.302590414810489\n",
      "Cost at iteration #10000: 8.577126208382436\n",
      "Cost at iteration #11000: 7.948213444822713\n",
      "Cost at iteration #12000: 7.423133766850673\n",
      "Cost at iteration #13000: 7.0011439457277564\n",
      "Cost at iteration #14000: 6.6739902292568924\n",
      "Cost at iteration #15000: 6.4283466071670095\n",
      "Cost at iteration #16000: 6.248835955616088\n",
      "Cost at iteration #17000: 6.120521897341737\n",
      "Cost at iteration #18000: 6.030401844751241\n",
      "Cost at iteration #19000: 5.967976111433136\n",
      "Cost at iteration #20000: 5.925204150090543\n",
      "Cost at iteration #21000: 5.896157520142446\n",
      "Cost at iteration #22000: 5.876582513942453\n",
      "Cost at iteration #23000: 5.863486551660875\n",
      "Cost at iteration #24000: 5.854794224985015\n",
      "Cost at iteration #25000: 5.849081249948798\n",
      "Cost at iteration #26000: 5.845377780707446\n",
      "Cost at iteration #27000: 5.8430272786602035\n",
      "Cost at iteration #28000: 5.8415872933390816\n",
      "Cost at iteration #29000: 5.840760702902755\n"
     ]
    }
   ],
   "source": [
    "a = 0.003\n",
    "\n",
    "#forward propogation on entire training set\n",
    "m = 1652\n",
    "iterations = 30000\n",
    "\n",
    "for it in range(iterations):\n",
    "    #A3 = forwardProp(W1,X,B1)\n",
    "    Z1 = np.dot(W1, X) + B1\n",
    "    A1 = tanhActivation(Z1)\n",
    "    Z2 = np.dot(W2, A1) + B2\n",
    "    A2 = tanhActivation(Z2)\n",
    "    Z3 = np.dot(W3, A2).T + B3\n",
    "    A3 = sigmoid(Z3).T\n",
    "    \n",
    "    \n",
    "    #BACKPROP\n",
    "    #Output layer to 2nd hidden layer\n",
    "    dZ3 = A3.T-Y\n",
    "    dW3 = np.matmul(dZ3.T, A2.T)/m\n",
    "    dB3 = np.sum(dZ3, axis=1)/m\n",
    "    \n",
    "    #2nd hidden layer to 1st hidden layer\n",
    "    dZ2 = np.multiply(np.matmul(np.matrix(W3.T), np.matrix(dZ3).T), tanhPrime(np.matrix(Z2)))\n",
    "    dW2 = np.matmul(dZ2, A1.T)/m\n",
    "    dB2 = np.sum(dZ2, axis=1)/m\n",
    "\n",
    "    #1st hidden layer to input layer\n",
    "    dZ1 = np.multiply(np.matmul(np.matrix(W2.T), np.matrix(dZ2)), tanhPrime(np.matrix(Z1)))\n",
    "    dW1 = np.matmul(dZ1, X.T)/m\n",
    "    dB1 = np.sum(dZ1, axis=1)/m\n",
    "\n",
    "    #UPDATE WEIGHTS AND BIASES:\n",
    "    W1 = W1 - (a*dW1)\n",
    "    W2 = W2 - (a*dW2)\n",
    "    W3 = W3 - (a*dW3)\n",
    "    B1 = B1 - (a*dB1)\n",
    "    B2 = B2 - (a*dB2)\n",
    "    B3 = B3 - (a*dB3)\n",
    "\n",
    "    if it % 1000 == 0:\n",
    "        print(\"Cost at iteration #\" + str(it) + \": \" + str(costFunction(A3)))\n",
    "    \n"
   ]
  },
  {
   "cell_type": "markdown",
   "metadata": {},
   "source": [
    "# Final cost of the network:"
   ]
  },
  {
   "cell_type": "code",
   "execution_count": 58,
   "metadata": {},
   "outputs": [
    {
     "data": {
      "text/plain": [
       "5.840348805704052"
      ]
     },
     "execution_count": 58,
     "metadata": {},
     "output_type": "execute_result"
    }
   ],
   "source": [
    "costFunction(A3)"
   ]
  },
  {
   "cell_type": "markdown",
   "metadata": {},
   "source": [
    "# As shown in the above output, of the cost of our network as iterations go on, it is evident our network is sufficiently learning. The training of our Neural Network converges with a cost of around 5.84"
   ]
  },
  {
   "cell_type": "markdown",
   "metadata": {},
   "source": [
    "Get test points to evaluate data on:"
   ]
  },
  {
   "cell_type": "code",
   "execution_count": 59,
   "metadata": {},
   "outputs": [],
   "source": [
    "x1 = X[0, 12]\n",
    "x2 = X[1, 12]\n",
    "\n",
    "x1b = X[0, 22]\n",
    "x2b = X[1, 22]\n",
    "\n",
    "x1c = X[0, 32]\n",
    "x2c = X[1, 32]\n",
    "\n",
    "x1d = X[0, 42]\n",
    "x2d = X[1, 42]\n",
    "\n",
    "df0 = df[df['label'] == 0]\n",
    "df1 = df[df['label'] == 1]\n",
    "\n",
    "def classify(x1a,x2a):\n",
    "    plt.plot(df0['x1'], df0['x2'], 'b.')\n",
    "    plt.plot(df1['x1'], df1['x2'], 'r.')\n",
    "    plt.plot(x1a, x2a, 'g*')\n",
    "    plt.show()\n",
    "\n",
    "    x = np.matrix([x1a, x2a]).T\n",
    "    a3 = forwardProp(W1, x, B1)\n",
    "    if (a3[0][0]*100) > 50:\n",
    "        print(\"A Red Point is the Neural Networks classification\")\n",
    "    else:\n",
    "        print(\"A Blue Point is the Neural Networks classification\")"
   ]
  },
  {
   "cell_type": "markdown",
   "metadata": {},
   "source": [
    "# Evaluate our Neural Network on some data\n",
    "Look for the green star on the graph"
   ]
  },
  {
   "cell_type": "code",
   "execution_count": 60,
   "metadata": {},
   "outputs": [
    {
     "data": {
      "image/png": "[encoded data removed]",
      "text/plain": [
       "<Figure size 432x288 with 1 Axes>"
      ]
     },
     "metadata": {
      "needs_background": "light"
     },
     "output_type": "display_data"
    },
    {
     "name": "stdout",
     "output_type": "stream",
     "text": [
      "A Blue Point is the Neural Networks classification\n"
     ]
    }
   ],
   "source": [
    "classify(x1,x2)"
   ]
  },
  {
   "cell_type": "code",
   "execution_count": null,
   "metadata": {},
   "outputs": [],
   "source": []
  },
  {
   "cell_type": "code",
   "execution_count": 61,
   "metadata": {},
   "outputs": [
    {
     "data": {
      "image/png": "[encoded data removed]",
      "text/plain": [
       "<Figure size 432x288 with 1 Axes>"
      ]
     },
     "metadata": {
      "needs_background": "light"
     },
     "output_type": "display_data"
    },
    {
     "name": "stdout",
     "output_type": "stream",
     "text": [
      "A Blue Point is the Neural Networks classification\n"
     ]
    }
   ],
   "source": [
    "classify(x1b,x2b)"
   ]
  },
  {
   "cell_type": "code",
   "execution_count": null,
   "metadata": {},
   "outputs": [],
   "source": []
  },
  {
   "cell_type": "code",
   "execution_count": 62,
   "metadata": {},
   "outputs": [
    {
     "data": {
      "image/png": "[encoded data removed]",
      "text/plain": [
       "<Figure size 432x288 with 1 Axes>"
      ]
     },
     "metadata": {
      "needs_background": "light"
     },
     "output_type": "display_data"
    },
    {
     "name": "stdout",
     "output_type": "stream",
     "text": [
      "A Blue Point is the Neural Networks classification\n"
     ]
    }
   ],
   "source": [
    "classify(x1c,x2c)"
   ]
  },
  {
   "cell_type": "code",
   "execution_count": null,
   "metadata": {},
   "outputs": [],
   "source": []
  },
  {
   "cell_type": "code",
   "execution_count": 63,
   "metadata": {},
   "outputs": [
    {
     "data": {
      "image/png": "[encoded data removed]",
      "text/plain": [
       "<Figure size 432x288 with 1 Axes>"
      ]
     },
     "metadata": {
      "needs_background": "light"
     },
     "output_type": "display_data"
    },
    {
     "name": "stdout",
     "output_type": "stream",
     "text": [
      "A Blue Point is the Neural Networks classification\n"
     ]
    }
   ],
   "source": [
    "classify(x1d,x2d)"
   ]
  },
  {
   "cell_type": "code",
   "execution_count": null,
   "metadata": {},
   "outputs": [],
   "source": []
  },
  {
   "cell_type": "code",
   "execution_count": null,
   "metadata": {},
   "outputs": [],
   "source": []
  }
 ],
 "metadata": {
  "kernelspec": {
   "display_name": "Python 3",
   "language": "python",
   "name": "python3"
  },
  "language_info": {
   "codemirror_mode": {
    "name": "ipython",
    "version": 3
   },
   "file_extension": ".py",
   "mimetype": "text/x-python",
   "name": "python",
   "nbconvert_exporter": "python",
   "pygments_lexer": "ipython3",
   "version": "3.6.8"
  }
 },
 "nbformat": 4,
 "nbformat_minor": 2
}
